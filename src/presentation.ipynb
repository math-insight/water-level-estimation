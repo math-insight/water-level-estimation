{
 "cells": [
  {
   "cell_type": "code",
   "execution_count": null,
   "id": "05835b98",
   "metadata": {
    "collapsed": false,
    "jupyter": {
     "outputs_hidden": false
    }
   },
   "outputs": [],
   "source": [
    "from IPython.display import display, Image\n",
    "import pandas as pd\n",
    "import matplotlib.pyplot as plt\n",
    "from matplotlib.dates import DateFormatter, MonthLocator\n",
    "from math import ceil\n",
    "from presentation_functions import faded_color_vectors\n",
    "from scipy.signal import find_peaks, savgol_filter"
   ]
  },
  {
   "cell_type": "code",
   "execution_count": null,
   "id": "e8872a7f",
   "metadata": {
    "collapsed": false,
    "jupyter": {
     "outputs_hidden": false
    }
   },
   "outputs": [],
   "source": [
    "data = pd.read_pickle(r\"../data/B00020S.pkl\")\n",
    "data['Date'] = pd.to_datetime(data['Date'])"
   ]
  },
  {
   "cell_type": "markdown",
   "id": "bd229f0c",
   "metadata": {
    "collapsed": false,
    "jupyter": {
     "outputs_hidden": false
    }
   },
   "source": [
    "# Estymacja poziomu wody w Odrze na wysokości Głogowa"
   ]
  },
  {
   "cell_type": "markdown",
   "id": "d0d158a9d4a951cc",
   "metadata": {
    "collapsed": false,
    "jupyter": {
     "outputs_hidden": false
    }
   },
   "source": [
    "## Mapa przedstawiająca stacje hydrologiczne na Odrze i jej dopływach."
   ]
  },
  {
   "cell_type": "code",
   "execution_count": null,
   "id": "182a24fa94b98e9c",
   "metadata": {
    "collapsed": false,
    "jupyter": {
     "outputs_hidden": false
    }
   },
   "outputs": [],
   "source": [
    "display(Image(filename='../data/imgw-map.png'))"
   ]
  },
  {
   "cell_type": "markdown",
   "id": "fe6344c7",
   "metadata": {
    "collapsed": false,
    "jupyter": {
     "outputs_hidden": false
    }
   },
   "source": [
    "## Wykresy porównujące poziom wody w wybranych stacjach"
   ]
  },
  {
   "cell_type": "code",
   "execution_count": null,
   "id": "199a53ea",
   "metadata": {
    "collapsed": false,
    "jupyter": {
     "outputs_hidden": false
    }
   },
   "outputs": [],
   "source": [
    "stations = ['GŁOGÓW', 'MALCZYCE', 'BRZEG', 'KRĄKOWICE', 'KRZYŻANOWICE', 'CHAŁUPKI']\n",
    "years = range(2008, 2015)\n",
    "months_range = range(1,13)\n",
    "custom_palette = faded_color_vectors((1,0,0), len(stations))\n",
    "\n",
    "fig, axes = plt.subplots(figsize=(36,16*(len(years)-1)), ncols=1, nrows=len(years), gridspec_kw={'hspace': 0.3})\n",
    "\n",
    "data_temp = data.groupby(['Date', 'Station'])['B00020S'].mean().reset_index()\n",
    "\n",
    "for i, year in enumerate(years):\n",
    "    data_temp_yearly = data_temp[(data_temp['Date'].dt.year == year) & (data_temp['Date'].dt.month.isin(months_range))]\n",
    "    for j, station in enumerate(stations):\n",
    "        data_station = data_temp_yearly[data_temp_yearly['Station'] == station]\n",
    "        color = custom_palette[j]\n",
    "        axes[i].plot(data_station['Date'], data_station['B00020S'], label=station, linewidth=3, color=color)\n",
    "    axes[i].legend(loc='upper right', fontsize=20)\n",
    "    axes[i].set_xlabel('Miesiąc')\n",
    "    axes[i].set_ylabel('Poziom wody (cm)')\n",
    "    axes[i].set_title(f'Poziom wody w wybranych stacjach w {year}', fontsize=24)\n",
    "    axes[i].set_xlim(data_temp_yearly['Date'].min(), data_temp_yearly['Date'].max())\n",
    "    axes[i].set_ylim(0, 1000)\n",
    "\n",
    "    months_locator = MonthLocator()\n",
    "    months_fmt = DateFormatter(\"%b\")\n",
    "    axes[i].xaxis.set_major_locator(months_locator)\n",
    "    axes[i].xaxis.set_major_formatter(months_fmt)\n",
    "\n",
    "plt.show()"
   ]
  },
  {
   "cell_type": "markdown",
   "id": "d5b9cc2c",
   "metadata": {
    "collapsed": false,
    "jupyter": {
     "outputs_hidden": false
    }
   },
   "source": [
    "## Wykresy porównujące poziom wody w Głogowie w wybranych latach"
   ]
  },
  {
   "cell_type": "code",
   "execution_count": null,
   "id": "3ec1bd00",
   "metadata": {
    "collapsed": false,
    "jupyter": {
     "outputs_hidden": false
    }
   },
   "outputs": [],
   "source": [
    "years_per_chart = 4\n",
    "station_name = 'GŁOGÓW'\n",
    "\n",
    "data_glg = data[data.Station == station_name]\n",
    "data_grouped = data_glg.groupby(['Date'])['B00020S'].mean().reset_index()\n",
    "data_grouped['Year'] = data_grouped['Date'].dt.year\n",
    "data_grouped['Date'] = data_grouped['Date'].dt.strftime('%m-%d')\n",
    "\n",
    "n_charts = ceil(16/years_per_chart)\n",
    "\n",
    "fig, axes = plt.subplots(figsize=(36, 16*(n_charts-1)), ncols=1, nrows=n_charts, gridspec_kw={'hspace': 0.3})\n",
    "\n",
    "for i in range(n_charts):\n",
    "    years = range(2008 + i * years_per_chart, 2008 + years_per_chart + i * years_per_chart)\n",
    "    for j, year in enumerate(years):\n",
    "        data_year = data_grouped[data_grouped['Year'] == year]\n",
    "        axes[i].plot(data_year['Date'], data_year['B00020S'], label=year, linewidth=3)\n",
    "        axes[i].legend(loc='upper right', fontsize=20)\n",
    "        axes[i].set_title(f'Stany wody w Głogowie w latach {2008 + i * years_per_chart} - {2008 + years_per_chart + i * years_per_chart - 1}', fontsize=30)\n",
    "        axes[i].set_xlabel('Miesiąc')\n",
    "        axes[i].set_ylabel('Poziom wody (cm)')\n",
    "        months_locator = MonthLocator()\n",
    "        months_fmt = DateFormatter(\"%b\")\n",
    "        axes[i].xaxis.set_major_locator(months_locator)\n",
    "        axes[i].xaxis.set_major_formatter(months_fmt)\n",
    "\n",
    "plt.show()\n"
   ]
  },
  {
   "cell_type": "markdown",
   "id": "dc58d9ff",
   "metadata": {
    "collapsed": false,
    "jupyter": {
     "outputs_hidden": false
    }
   },
   "source": [
    "## Szukanie prędkości wody"
   ]
  },
  {
   "cell_type": "markdown",
   "id": "2fe9cc0e",
   "metadata": {
    "collapsed": false,
    "jupyter": {
     "outputs_hidden": false
    }
   },
   "source": [
    "W równaniach Bernoulliego są wykorzystywane wysokość i ciśnienie, ale ani tego ani tego nie jesteśmy w stanie oszacować\n",
    "\n",
    "Znaleźliśmy wzór $\\text{przepływ} = \\text{pole przekroju} \\cdot \\text{średnia prędkość}$, przepływ znamy, prędkości jest szukaną, jedynym problem jest pole przekroju\n",
    "Pole przekroju jest do znalezienia jeżeli przyjmiemy, że przekrój poprzeczny rzeki to półkole albo nawet półelipsa - wtedy wystarczy znaleźć szerokość rzeki i jej max. głębokość\n",
    "W wyniku głębszych analiz moglibyśmy sprawdzić czy szerokość i głębokość jest w przybliżeniu stała na całej jej długości, to bardzo ułatwiłoby nam znalezienie prędkości dla danego przepływu\n",
    "\n",
    "Trzecim pomysłem jest wykorzystanie wzoru $v = \\frac{\\Delta s}{\\Delta t}$, $\\Delta t$ możemy znaleźć na podstawie różnic czasowych w peakach na podstawie czerwonych wykresów a $\\Delta s$ na podstawie fizycznie\n",
    "odległości między stacjami.\n"
   ]
  },
  {
   "cell_type": "markdown",
   "id": "0cc44e5f",
   "metadata": {
    "collapsed": false,
    "jupyter": {
     "outputs_hidden": false
    }
   },
   "source": [
    "todo:\n",
    "plotly\n",
    "geoportal - szerokość rzeki\n",
    "różnice w czasie i wartości\n",
    "zbiorniki retencyjne\n",
    "przekrojem"
   ]
  },
  {
   "cell_type": "markdown",
   "id": "3805bd83",
   "metadata": {
    "collapsed": false,
    "jupyter": {
     "outputs_hidden": false
    }
   },
   "source": [
    "## Wykresy peaków w poziomach wody"
   ]
  },
  {
   "cell_type": "code",
   "execution_count": null,
   "id": "a0ff2e2d",
   "metadata": {
    "collapsed": false,
    "jupyter": {
     "outputs_hidden": false
    }
   },
   "outputs": [],
   "source": [
    "stations = ['GŁOGÓW', 'MALCZYCE', 'BRZEG', 'KRĄKOWICE', 'KRZYŻANOWICE', 'CHAŁUPKI']\n",
    "years = range(2008, 2015)\n",
    "months_range = range(1,13)\n",
    "stations_palette = faded_color_vectors((1,0,0), len(stations))\n",
    "peaks_palette = faded_color_vectors((0,1,1), len(stations))\n",
    "prominence = 40\n",
    "\n",
    "fig, axes = plt.subplots(figsize=(36,16*(len(years)-1)), ncols=1, nrows=len(years), gridspec_kw={'hspace': 0.3})\n",
    "\n",
    "data_temp = data.groupby(['Date', 'Station'])['B00020S'].mean().reset_index()\n",
    "\n",
    "for i, year in enumerate(years):\n",
    "    data_temp_yearly = data_temp[(data_temp['Date'].dt.year == year) & (data_temp['Date'].dt.month.isin(months_range))]\n",
    "    for j, station in enumerate(stations):\n",
    "        data_station = data_temp_yearly[data_temp_yearly['Station'] == station]\n",
    "        station_color = stations_palette[j]\n",
    "        peak_color = peaks_palette[j]\n",
    "\n",
    "        peaks, _ = find_peaks(data_station['B00020S'], prominence=prominence)\n",
    "\n",
    "        axes[i].plot(data_station['Date'], data_station['B00020S'], label=station, linewidth=3, color=station_color)\n",
    "        axes[i].plot(data_station['Date'].iloc[peaks], data_station['B00020S'].iloc[peaks], 'o', markersize=5, color=peak_color)\n",
    "\n",
    "    axes[i].legend(loc='upper right', fontsize=20)\n",
    "    axes[i].set_xlabel('Miesiąc')\n",
    "    axes[i].set_ylabel('Poziom wody (cm)')\n",
    "    axes[i].set_title(f'Peaki poziomu wody w wybranych stacjach w {year}', fontsize=24)\n",
    "    axes[i].set_xlim(data_temp_yearly['Date'].min(), data_temp_yearly['Date'].max())\n",
    "    axes[i].set_ylim(0, 1000)\n",
    "\n",
    "    months_locator = MonthLocator()\n",
    "    months_fmt = DateFormatter(\"%b\")\n",
    "    axes[i].xaxis.set_major_locator(months_locator)\n",
    "    axes[i].xaxis.set_major_formatter(months_fmt)\n",
    "\n",
    "plt.show()"
   ]
  },
  {
   "cell_type": "markdown",
   "source": [
    "## Wykresy peaków + wygładzenie przy pomocy filtrowania Savitzky-Golay"
   ],
   "metadata": {
    "collapsed": false
   }
  },
  {
   "cell_type": "code",
   "execution_count": null,
   "id": "da36469f",
   "metadata": {
    "collapsed": false,
    "jupyter": {
     "outputs_hidden": false
    }
   },
   "outputs": [],
   "source": [
    "stations = ['GŁOGÓW', 'MALCZYCE', 'BRZEG', 'KRĄKOWICE', 'KRZYŻANOWICE', 'CHAŁUPKI']\n",
    "years = range(2008, 2015)\n",
    "months_range = range(1,13)\n",
    "stations_palette = faded_color_vectors((1,0,0), len(stations))\n",
    "peaks_palette = faded_color_vectors((0,1,1), len(stations))\n",
    "prominence = 40\n",
    "window_length = 7\n",
    "poly_order = 2\n",
    "mode = 'nearest'\n",
    "\n",
    "fig, axes = plt.subplots(figsize=(36,16*(len(years)-1)), ncols=1, nrows=len(years), gridspec_kw={'hspace': 0.3})\n",
    "\n",
    "data_temp = data.groupby(['Date', 'Station'])['B00020S'].mean().reset_index()\n",
    "\n",
    "for i, year in enumerate(years):\n",
    "    data_temp_yearly = data_temp[(data_temp['Date'].dt.year == year) & (data_temp['Date'].dt.month.isin(months_range))]\n",
    "    for j, station in enumerate(stations):\n",
    "        data_station = data_temp_yearly[data_temp_yearly['Station'] == station]\n",
    "        data_filtered = savgol_filter(data_station['B00020S'], window_length, poly_order, mode=mode)\n",
    "        station_color = stations_palette[j]\n",
    "        peak_color = peaks_palette[j]\n",
    "\n",
    "        peaks, _ = find_peaks(data_filtered, prominence=prominence)\n",
    "\n",
    "        axes[i].plot(data_station['Date'], data_station['B00020S'], label=station, linewidth=3, color=station_color)\n",
    "        axes[i].plot(data_station['Date'].iloc[peaks], data_station['B00020S'].iloc[peaks], 'o', markersize=5, color=peak_color)\n",
    "\n",
    "    axes[i].legend(loc='upper right', fontsize=20)\n",
    "    axes[i].set_xlabel('Miesiąc')\n",
    "    axes[i].set_ylabel('Poziom wody (cm)')\n",
    "    axes[i].set_title(f'Peaki poziomu wody w wybranych stacjach w {year}', fontsize=24)\n",
    "    axes[i].set_xlim(data_temp_yearly['Date'].min(), data_temp_yearly['Date'].max())\n",
    "    axes[i].set_ylim(0, 1000)\n",
    "\n",
    "    months_locator = MonthLocator()\n",
    "    months_fmt = DateFormatter(\"%b\")\n",
    "    axes[i].xaxis.set_major_locator(months_locator)\n",
    "    axes[i].xaxis.set_major_formatter(months_fmt)\n",
    "\n",
    "plt.show()"
   ]
  },
  {
   "cell_type": "code",
   "execution_count": null,
   "outputs": [],
   "source": [],
   "metadata": {
    "collapsed": false
   }
  }
 ],
 "metadata": {
  "kernelspec": {
   "display_name": "Python 3 (ipykernel)",
   "language": "python",
   "name": "python3"
  },
  "language_info": {
   "codemirror_mode": {
    "name": "ipython",
    "version": 3
   },
   "file_extension": ".py",
   "mimetype": "text/x-python",
   "name": "python",
   "nbconvert_exporter": "python",
   "pygments_lexer": "ipython3",
   "version": "3.11.3"
  }
 },
 "nbformat": 4,
 "nbformat_minor": 5
}
