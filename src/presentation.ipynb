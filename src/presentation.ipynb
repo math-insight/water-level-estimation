{
 "cells": [
  {
   "cell_type": "code",
   "execution_count": null,
   "id": "05835b98",
   "metadata": {
    "collapsed": false
   },
   "outputs": [],
   "source": [
    "from IPython.display import display, Image\n",
    "import pandas as pd\n",
    "from plots import one_station_plot, multiple_stations_plot, peaks_plot, savgol_plot, peaks_savgol_plot"
   ]
  },
  {
   "cell_type": "code",
   "execution_count": null,
   "id": "e8872a7f",
   "metadata": {
    "collapsed": false
   },
   "outputs": [],
   "source": [
    "data = pd.read_pickle(r\"../data/B00020S.pkl\")\n",
    "data['Date'] = pd.to_datetime(data['Date'])"
   ]
  },
  {
   "cell_type": "markdown",
   "id": "bd229f0c",
   "metadata": {
    "collapsed": false
   },
   "source": [
    "# Estymacja poziomu wody w Odrze na wysokości Głogowa"
   ]
  },
  {
   "cell_type": "markdown",
   "id": "d0d158a9d4a951cc",
   "metadata": {
    "collapsed": false
   },
   "source": [
    "## Mapa przedstawiająca stacje hydrologiczne na Odrze i jej dopływach."
   ]
  },
  {
   "cell_type": "code",
   "execution_count": null,
   "id": "182a24fa94b98e9c",
   "metadata": {
    "collapsed": false
   },
   "outputs": [],
   "source": [
    "display(Image(filename='../data/imgw-map.png'))"
   ]
  },
  {
   "cell_type": "markdown",
   "id": "fe6344c7",
   "metadata": {
    "collapsed": false
   },
   "source": [
    "## Wykresy porównujące poziom wody w wybranych stacjach"
   ]
  },
  {
   "cell_type": "code",
   "execution_count": null,
   "id": "199a53ea",
   "metadata": {
    "collapsed": false
   },
   "outputs": [],
   "source": [
    "stations = ['GŁOGÓW', 'MALCZYCE', 'BRZEG', 'KRZYŻANOWICE', 'CHAŁUPKI']\n",
    "years = range(2008, 2015)\n",
    "\n",
    "multiple_stations_plot(\n",
    "    data=data,\n",
    "    stations=stations,\n",
    "    years=years\n",
    ")"
   ]
  },
  {
   "cell_type": "markdown",
   "id": "d5b9cc2c",
   "metadata": {
    "collapsed": false
   },
   "source": [
    "## Wykresy porównujące poziom wody w Głogowie w wybranych latach"
   ]
  },
  {
   "cell_type": "code",
   "execution_count": null,
   "id": "3ec1bd00",
   "metadata": {
    "collapsed": false
   },
   "outputs": [],
   "source": [
    "years_per_chart = 4\n",
    "station = 'GŁOGÓW'\n",
    "\n",
    "one_station_plot(\n",
    "    data=data,\n",
    "    station=station,\n",
    "    years_per_chart=years_per_chart\n",
    ")"
   ]
  },
  {
   "cell_type": "markdown",
   "id": "dc58d9ff",
   "metadata": {
    "collapsed": false
   },
   "source": [
    "## Szukanie prędkości wody"
   ]
  },
  {
   "cell_type": "markdown",
   "id": "2fe9cc0e",
   "metadata": {
    "collapsed": false
   },
   "source": [
    "W równaniach Bernoulliego są wykorzystywane wysokość i ciśnienie, ale ani tego, ani tego nie jesteśmy w stanie oszacować\n",
    "\n",
    "Znaleźliśmy wzór $\\text{przepływ} = \\text{pole przekroju} \\cdot \\text{średnia prędkość}$, przepływ znamy, prędkości jest szukaną, jedynym problem jest pole przekroju.\n",
    "Pole przekroju jest do znalezienia, jeżeli przyjmiemy, że przekrój poprzeczny rzeki to półkole albo nawet półelipsa wtedy wystarczy znaleźć szerokość rzeki i jej max. głębokość.\n",
    "W wyniku głębszych analiz moglibyśmy sprawdzić, czy szerokość i głębokość jest w przybliżeniu stała na całej jej długości, to bardzo ułatwiłoby nam znalezienie prędkości dla danego przepływu.\n",
    "\n",
    "Trzecim pomysłem jest wykorzystanie wzoru $v = \\frac{\\Delta s}{\\Delta t}$, $\\Delta t$ możemy znaleźć na podstawie różnic czasowych w peakach na podstawie czerwonych wykresów a $\\Delta s$ na podstawie fizycznie\n",
    "odległości między stacjami."
   ]
  },
  {
   "cell_type": "markdown",
   "id": "3805bd83",
   "metadata": {
    "collapsed": false
   },
   "source": [
    "## Wykresy peaków w poziomach wody"
   ]
  },
  {
   "cell_type": "code",
   "execution_count": null,
   "id": "a0ff2e2d",
   "metadata": {
    "collapsed": false
   },
   "outputs": [],
   "source": [
    "stations = ['GŁOGÓW', 'MALCZYCE', 'BRZEG', 'KRĄKOWICE', 'KRZYŻANOWICE', 'CHAŁUPKI']\n",
    "years = range(2008, 2015)\n",
    "\n",
    "# Minimalna różnica (w jednostce osi Y) w wysokości między szczytem a najbliższym punktem na każdej stronie szczytu.\n",
    "# Szczyt musi być wystarczająco \"prominentny\", aby zostać uznany za osobny szczyt.\n",
    "# Ten parametr pomaga odfiltrować mniejsze szczyty.\n",
    "prominence = 60\n",
    "\n",
    "peaks_plot(\n",
    "    data=data,\n",
    "    stations=stations,\n",
    "    years=years,\n",
    "    prominence=prominence\n",
    ")"
   ]
  },
  {
   "cell_type": "markdown",
   "source": [
    "## Wygładzanie wykresu przy pomocy filtru Savitzkiego — Golay"
   ],
   "metadata": {
    "collapsed": false
   },
   "id": "180e06d2a4208a9d"
  },
  {
   "cell_type": "code",
   "execution_count": null,
   "outputs": [],
   "source": [
    "stations = ['GŁOGÓW', 'MALCZYCE', 'BRZEG', 'KRZYŻANOWICE', 'CHAŁUPKI']\n",
    "years = range(2008, 2010)\n",
    "\n",
    "# Rząd wielomianów używanych do lokalnej aproksymacji funkcji.\n",
    "# Wysoki rząd wielomianu może dopasować bardziej złożone kształty,\n",
    "# ale może prowadzić do przeuczenia, zwłaszcza przy małych danych.\n",
    "polyorder = 2\n",
    "\n",
    "# Szerokość okna, które jest używane do dopasowania wielomianu\n",
    "# do danych w każdym punkcie.\n",
    "# Długość okna powinna być nieparzysta i musi być mniejsza niż długość danych.\n",
    "# Większa długość okna sprawia, że filtr jest bardziej wygładzający,\n",
    "# ale jednocześnie mniej czuł na lokalne zmiany\n",
    "window_length = 14\n",
    "\n",
    "savgol_plot(\n",
    "    data=data,\n",
    "    stations=stations,\n",
    "    years=years,\n",
    "    polyorder=polyorder,\n",
    "    window_length=window_length\n",
    ")"
   ],
   "metadata": {
    "collapsed": false
   },
   "id": "1762aa410582430c"
  },
  {
   "cell_type": "markdown",
   "source": [
    "## Wykresy peaków + wygładzenie przy pomocy filtru Savitzkiego — Golay"
   ],
   "metadata": {
    "collapsed": false
   },
   "id": "1e30f696e9941df6"
  },
  {
   "cell_type": "code",
   "execution_count": null,
   "id": "da36469f",
   "metadata": {
    "collapsed": false
   },
   "outputs": [],
   "source": [
    "stations = ['GŁOGÓW', 'MALCZYCE', 'BRZEG', 'KRZYŻANOWICE', 'CHAŁUPKI']\n",
    "years = range(2008, 2015)\n",
    "prominence = 50\n",
    "polyorder = 2\n",
    "window_length = 14\n",
    "\n",
    "\n",
    "peaks_savgol_plot(\n",
    "    data=data,\n",
    "    stations=stations,\n",
    "    years=years,\n",
    "    prominence=prominence,\n",
    "    polyorder=polyorder,\n",
    "    window_length=window_length\n",
    ")"
   ]
  },
  {
   "cell_type": "code",
   "execution_count": null,
   "outputs": [],
   "source": [],
   "metadata": {
    "collapsed": false
   },
   "id": "dca1d06de347ca37"
  }
 ],
 "metadata": {
  "kernelspec": {
   "display_name": "Python 3 (ipykernel)",
   "language": "python",
   "name": "python3"
  },
  "language_info": {
   "codemirror_mode": {
    "name": "ipython",
    "version": 3
   },
   "file_extension": ".py",
   "mimetype": "text/x-python",
   "name": "python",
   "nbconvert_exporter": "python",
   "pygments_lexer": "ipython3",
   "version": "3.11.3"
  }
 },
 "nbformat": 4,
 "nbformat_minor": 5
}
