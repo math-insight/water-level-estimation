{
 "cells": [
  {
   "cell_type": "code",
   "execution_count": 1,
   "id": "05835b98",
   "metadata": {
    "collapsed": false,
    "jupyter": {
     "outputs_hidden": false
    },
    "ExecuteTime": {
     "end_time": "2023-12-18T13:36:39.534689200Z",
     "start_time": "2023-12-18T13:36:38.134188100Z"
    }
   },
   "outputs": [],
   "source": [
    "from IPython.display import display, Image\n",
    "import pandas as pd\n",
    "from plots import one_station_plot, multiple_stations_plot, peaks_plot, savgol_plot, peaks_savgol_plot"
   ]
  },
  {
   "cell_type": "code",
   "execution_count": 2,
   "id": "e8872a7f",
   "metadata": {
    "collapsed": false,
    "jupyter": {
     "outputs_hidden": false
    },
    "ExecuteTime": {
     "end_time": "2023-12-18T13:38:06.733806300Z",
     "start_time": "2023-12-18T13:36:40.507030Z"
    }
   },
   "outputs": [],
   "source": [
    "data = pd.read_pickle(r\"../data/B00020S.pkl\")\n",
    "data['Date'] = pd.to_datetime(data['Date'])"
   ]
  },
  {
   "cell_type": "markdown",
   "id": "bd229f0c",
   "metadata": {
    "collapsed": false,
    "jupyter": {
     "outputs_hidden": false
    }
   },
   "source": [
    "# Estymacja poziomu wody w Odrze na wysokości Głogowa"
   ]
  },
  {
   "cell_type": "markdown",
   "id": "d0d158a9d4a951cc",
   "metadata": {
    "collapsed": false,
    "jupyter": {
     "outputs_hidden": false
    }
   },
   "source": [
    "## Mapa przedstawiająca stacje hydrologiczne na Odrze i jej dopływach."
   ]
  },
  {
   "cell_type": "code",
   "execution_count": null,
   "id": "182a24fa94b98e9c",
   "metadata": {
    "collapsed": false,
    "jupyter": {
     "outputs_hidden": false
    }
   },
   "outputs": [],
   "source": [
    "display(Image(filename='../data/imgw-map.png'))"
   ]
  },
  {
   "cell_type": "markdown",
   "id": "fe6344c7",
   "metadata": {
    "collapsed": false,
    "jupyter": {
     "outputs_hidden": false
    }
   },
   "source": [
    "## Wykresy porównujące poziom wody w wybranych stacjach"
   ]
  },
  {
   "cell_type": "code",
   "execution_count": null,
   "id": "199a53ea",
   "metadata": {
    "collapsed": false,
    "jupyter": {
     "outputs_hidden": false
    }
   },
   "outputs": [],
   "source": [
    "stations = ['GŁOGÓW', 'MALCZYCE', 'BRZEG', 'KRZYŻANOWICE', 'CHAŁUPKI']\n",
    "years = range(2008, 2015)\n",
    "\n",
    "multiple_stations_plot(\n",
    "    data=data,\n",
    "    stations=stations,\n",
    "    years=years\n",
    ")"
   ]
  },
  {
   "cell_type": "markdown",
   "id": "d5b9cc2c",
   "metadata": {
    "collapsed": false,
    "jupyter": {
     "outputs_hidden": false
    }
   },
   "source": [
    "## Wykresy porównujące poziom wody w Głogowie w wybranych latach"
   ]
  },
  {
   "cell_type": "code",
   "execution_count": null,
   "id": "3ec1bd00",
   "metadata": {
    "collapsed": false,
    "jupyter": {
     "outputs_hidden": false
    }
   },
   "outputs": [],
   "source": [
    "years_per_chart = 4\n",
    "station = 'GŁOGÓW'\n",
    "\n",
    "one_station_plot(\n",
    "    data=data,\n",
    "    station=station,\n",
    "    years_per_chart=years_per_chart\n",
    ")"
   ]
  },
  {
   "cell_type": "markdown",
   "id": "dc58d9ff",
   "metadata": {
    "collapsed": false,
    "jupyter": {
     "outputs_hidden": false
    }
   },
   "source": [
    "## Szukanie prędkości wody"
   ]
  },
  {
   "cell_type": "markdown",
   "id": "2fe9cc0e",
   "metadata": {
    "collapsed": false,
    "jupyter": {
     "outputs_hidden": false
    }
   },
   "source": [
    "W równaniach Bernoulliego są wykorzystywane wysokość i ciśnienie, ale ani tego ani tego nie jesteśmy w stanie oszacować\n",
    "\n",
    "Znaleźliśmy wzór $\\text{przepływ} = \\text{pole przekroju} \\cdot \\text{średnia prędkość}$, przepływ znamy, prędkości jest szukaną, jedynym problem jest pole przekroju\n",
    "Pole przekroju jest do znalezienia jeżeli przyjmiemy, że przekrój poprzeczny rzeki to półkole albo nawet półelipsa - wtedy wystarczy znaleźć szerokość rzeki i jej max. głębokość\n",
    "W wyniku głębszych analiz moglibyśmy sprawdzić czy szerokość i głębokość jest w przybliżeniu stała na całej jej długości, to bardzo ułatwiłoby nam znalezienie prędkości dla danego przepływu\n",
    "\n",
    "Trzecim pomysłem jest wykorzystanie wzoru $v = \\frac{\\Delta s}{\\Delta t}$, $\\Delta t$ możemy znaleźć na podstawie różnic czasowych w peakach na podstawie czerwonych wykresów a $\\Delta s$ na podstawie fizycznie\n",
    "odległości między stacjami.\n"
   ]
  },
  {
   "cell_type": "markdown",
   "id": "3805bd83",
   "metadata": {
    "collapsed": false,
    "jupyter": {
     "outputs_hidden": false
    }
   },
   "source": [
    "## Wykresy peaków w poziomach wody"
   ]
  },
  {
   "cell_type": "code",
   "execution_count": null,
   "id": "a0ff2e2d",
   "metadata": {
    "collapsed": false,
    "jupyter": {
     "outputs_hidden": false
    }
   },
   "outputs": [],
   "source": [
    "stations = ['GŁOGÓW', 'MALCZYCE', 'BRZEG', 'KRĄKOWICE', 'KRZYŻANOWICE', 'CHAŁUPKI']\n",
    "years = range(2008, 2015)\n",
    "prominence = 60\n",
    "\n",
    "peaks_plot(\n",
    "    data=data,\n",
    "    stations=stations,\n",
    "    years=years,\n",
    "    prominence=prominence\n",
    ")"
   ]
  },
  {
   "cell_type": "markdown",
   "source": [
    "## Wygładzanie wykresu przy pomocy filtrowania Savitzky-Golay"
   ],
   "metadata": {
    "collapsed": false
   }
  },
  {
   "cell_type": "code",
   "execution_count": null,
   "outputs": [],
   "source": [
    "stations = ['GŁOGÓW', 'MALCZYCE', 'BRZEG', 'KRZYŻANOWICE', 'CHAŁUPKI']\n",
    "years = range(2008, 2010)\n",
    "window_length = 10\n",
    "polyorder = 3\n",
    "\n",
    "savgol_plot(\n",
    "    data=data,\n",
    "    stations=stations,\n",
    "    years=years,\n",
    "    polyorder=polyorder,\n",
    "    window_length=window_length\n",
    ")"
   ],
   "metadata": {
    "collapsed": false
   }
  },
  {
   "cell_type": "markdown",
   "source": [
    "## Wykresy peaków + wygładzenie przy pomocy filtrowania Savitzky-Golay"
   ],
   "metadata": {
    "collapsed": false
   }
  },
  {
   "cell_type": "code",
   "execution_count": null,
   "id": "da36469f",
   "metadata": {
    "collapsed": false,
    "jupyter": {
     "outputs_hidden": false
    }
   },
   "outputs": [],
   "source": [
    "stations = ['GŁOGÓW', 'MALCZYCE', 'BRZEG', 'KRZYŻANOWICE', 'CHAŁUPKI']\n",
    "years = range(2008, 2015)\n",
    "prominence = 20\n",
    "polyorder = 4\n",
    "window_length = 14\n",
    "\n",
    "\n",
    "peaks_savgol_plot(\n",
    "    data=data,\n",
    "    stations=stations,\n",
    "    years=years,\n",
    "    prominence=prominence,\n",
    "    polyorder=polyorder,\n",
    "    window_length=window_length\n",
    ")"
   ]
  },
  {
   "cell_type": "code",
   "execution_count": null,
   "outputs": [],
   "source": [],
   "metadata": {
    "collapsed": false
   }
  }
 ],
 "metadata": {
  "kernelspec": {
   "display_name": "Python 3 (ipykernel)",
   "language": "python",
   "name": "python3"
  },
  "language_info": {
   "codemirror_mode": {
    "name": "ipython",
    "version": 3
   },
   "file_extension": ".py",
   "mimetype": "text/x-python",
   "name": "python",
   "nbconvert_exporter": "python",
   "pygments_lexer": "ipython3",
   "version": "3.11.3"
  }
 },
 "nbformat": 4,
 "nbformat_minor": 5
}
