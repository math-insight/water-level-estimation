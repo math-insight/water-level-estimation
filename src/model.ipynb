{
 "cells": [
  {
   "cell_type": "code",
   "execution_count": 1,
   "metadata": {
    "collapsed": true,
    "ExecuteTime": {
     "end_time": "2023-12-19T17:28:47.948131200Z",
     "start_time": "2023-12-19T17:28:45.848478400Z"
    }
   },
   "outputs": [],
   "source": [
    "import pandas as pd\n",
    "import statsmodels.api as sm\n",
    "import matplotlib.pyplot as plt\n",
    "from sklearn.metrics import mean_squared_error\n",
    "from sklearn.metrics import mean_absolute_percentage_error\n",
    "from sklearn.metrics import max_error"
   ]
  },
  {
   "cell_type": "code",
   "execution_count": 2,
   "outputs": [],
   "source": [
    "data = pd.read_pickle(r\"../data/B00020S.pkl\")\n",
    "data['Date'] = pd.to_datetime(data['Date'])"
   ],
   "metadata": {
    "collapsed": false,
    "ExecuteTime": {
     "end_time": "2023-12-19T17:30:20.660325200Z",
     "start_time": "2023-12-19T17:28:49.351383900Z"
    }
   }
  },
  {
   "cell_type": "code",
   "execution_count": null,
   "outputs": [],
   "source": [
    "#%matplotlib qt\n",
    "\n",
    "stations = ['GŁOGÓW', 'MALCZYCE', 'BRZEG', 'KRAPKOWICE', 'KRZYŻANOWICE', 'CHAŁUPKI']\n",
    "\n",
    "data_temp = data.groupby(['Date', 'Station'])['B00020S'].mean().reset_index()\n",
    "data_202x = data_temp[(data_temp['Date'].dt.year >= 2020) & (data_temp['Date'].dt.year <= 2020) & (data_temp['Station'].isin(stations))].reset_index()\n",
    "\n",
    "data_brzeg = data_202x[data_202x['Station'] == 'BRZEG'].reset_index()\n",
    "data_malczyce = data_202x[data_202x['Station'] == 'MALCZYCE'].reset_index()\n",
    "data_chalupki = data_202x[data_202x['Station'] == 'CHAŁUPKI'].reset_index()\n",
    "data_krapkowice = data_202x[data_202x['Station'] == 'KRAPKOWICE'].reset_index()\n",
    "data_krzyzanowice = data_202x[data_202x['Station'] == 'KRZYŻANOWICE'].reset_index()\n",
    "data_glogow = data_202x[data_202x['Station'] == 'GŁOGÓW'].reset_index()\n",
    "\n",
    "\n",
    "testdata_chalupki = data_temp[(data_temp.Date.between('2019-12-29', '2020-12-28')) & (data_temp['Station'] == 'CHAŁUPKI')].reset_index()\n",
    "testdata_krzyzanowice = data_temp[(data_temp.Date.between('2019-12-29', '2020-12-28')) & (data_temp['Station'] == 'KRZYŻANOWICE')].reset_index()\n",
    "testdata_brzeg = data_temp[(data_temp.Date.between('2019-12-30', '2020-12-29')) & (data_temp['Station'] == 'BRZEG')].reset_index()\n",
    "testdata_malczyce = data_temp[(data_temp.Date.between('2019-12-31', '2020-12-30')) & (data_temp['Station'] == 'MALCZYCE')].reset_index()\n",
    "\n",
    "\n",
    "data_g = data_glogow.copy()\n",
    "extracted_col = [testdata_chalupki[\"B00020S\"], testdata_krzyzanowice[\"B00020S\"], testdata_brzeg[\"B00020S\"], testdata_malczyce[\"B00020S\"]]\n",
    "\n",
    "data_g = pd.concat([data_g, extracted_col[0].rename(\"Chałupki\")], axis=1)\n",
    "data_g = pd.concat([data_g, extracted_col[1].rename(\"Krzyżanowice\")], axis=1)\n",
    "data_g = pd.concat([data_g, extracted_col[2].rename(\"Brzeg\")], axis=1)\n",
    "data_g = pd.concat([data_g, extracted_col[3].rename(\"Malczyce\")], axis=1)\n",
    "\n",
    "x = data_g[[\"Chałupki\", \"Krzyżanowice\", \"Brzeg\", \"Malczyce\"]]\n",
    "y = data_g['B00020S']\n",
    "x = sm.add_constant(x)\n",
    "\n",
    "model = sm.OLS(y, x).fit()\n",
    "\n",
    "print(model.summary())\n",
    "\n",
    "residuals = pd.DataFrame(model.resid)\n",
    "residuals.plot()\n",
    "residuals.plot(kind='kde')\n",
    "print(residuals.describe())\n",
    "\n",
    "#plt.plot(data_malczyce['Date'], data_malczyce['B00020S'],'b', data_glogow['Date'], data_glogow['B00020S'], 'g')\n",
    "\n",
    "#Chałupki - Krzyżanowice: 0-1 dni\n",
    "#Chałupki - Brzeg: 1-3 dni\n",
    "#Chałupki - Malczyce: 1-4 dni (raczej 2)\n",
    "#Chałupki - Głogów: 2-7 dni (raczej 3)\n",
    "\n",
    "#Krzyżanowice - Brzeg: 1-3 dni (raczej 1)\n",
    "#Krzyżanowice - Malczyce: 1-4 dni (raczej 2)\n",
    "#Krzyżanowice - Głogów: 2-6 dni (raczej 3)\n",
    "\n",
    "#Brzeg - Malczyce: 0-1 dni (?poziom w Brzegu prawie zawsze wyższy niż w Malczycach?)\n",
    "#Brzeg - Głogów: 1-3 dni (raczej 2)\n",
    "\n",
    "#Malczyce - Głogów: 1-2 dni\n",
    "\n",
    "#Głogów(t) = a0 + a1 * Chałupki(t-3) + a2 * Krzyżanowice(t-3) + a3 * Brzeg(t-2) + a4 * Malczyce(t-1)"
   ],
   "metadata": {
    "collapsed": false
   }
  },
  {
   "cell_type": "code",
   "execution_count": null,
   "outputs": [],
   "source": [
    "X = data_g['B00020S'].values\n",
    "size = int(len(X) * 0.8)\n",
    "\n",
    "train, test = data_g.iloc[0:size], data_g.iloc[size:len(X)]\n",
    "\n",
    "x = train[[\"Chałupki\", \"Krzyżanowice\", \"Brzeg\", \"Malczyce\"]]\n",
    "y = train['B00020S']\n",
    "x = sm.add_constant(x)\n",
    "\n",
    "model = sm.OLS(y, x).fit()\n",
    "model.predict(x)\n",
    "print(model.params)\n",
    "test_values = model.params['const'] + model.params['Chałupki'] * test['Chałupki'] + model.params['Krzyżanowice'] * test['Krzyżanowice'] + model.params['Brzeg'] * test['Brzeg'] + model.params['Malczyce'] * test['Malczyce']\n",
    "plt.plot(train['Date'], train['B00020S'], 'b', label='faktyczne dane')\n",
    "plt.plot(train['Date'], model.predict(), 'r', label='model')\n",
    "plt.plot(test['Date'], test['B00020S'], 'g', label='faktyczne dane (test)')\n",
    "plt.plot(test['Date'], test_values, 'm', label='model (test)')\n",
    "plt.legend()\n",
    "plt.grid()\n",
    "plt.show()\n",
    "\n",
    "mse = mean_squared_error(y_true = test['B00020S'], y_pred = test_values, squared = True)\n",
    "rmse = mean_squared_error(y_true = test['B00020S'], y_pred = test_values, squared = False)\n",
    "mape = mean_absolute_percentage_error(y_true = test['B00020S'], y_pred = test_values)\n",
    "max_error = max_error(y_true = test['B00020S'], y_pred = test_values)\n",
    "print('Test MSE: %.3f' % mse)\n",
    "print('Test RMSE: %.3f' % rmse)\n",
    "print('Test MAPE: %.3f' % mape)\n",
    "print('Test max error: %.3f' % max_error)"
   ],
   "metadata": {
    "collapsed": false
   }
  }
 ],
 "metadata": {
  "kernelspec": {
   "display_name": "Python 3",
   "language": "python",
   "name": "python3"
  },
  "language_info": {
   "codemirror_mode": {
    "name": "ipython",
    "version": 2
   },
   "file_extension": ".py",
   "mimetype": "text/x-python",
   "name": "python",
   "nbconvert_exporter": "python",
   "pygments_lexer": "ipython2",
   "version": "2.7.6"
  }
 },
 "nbformat": 4,
 "nbformat_minor": 0
}
