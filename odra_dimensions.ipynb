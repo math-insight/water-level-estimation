{
 "cells": [
  {
   "cell_type": "markdown",
   "source": [
    "# Szerokość Odry dla stacji"
   ],
   "metadata": {
    "collapsed": false
   },
   "id": "8bbeaa394e5e9819"
  },
  {
   "cell_type": "markdown",
   "source": [
    "                    Szerokości[m]       Głębokość\n",
    "    Głogów          157.88\n",
    "    Malczyce        65.23\n",
    "    Brzeg           95.40\n",
    "    Krąkowice       98.87\n",
    "    Krzyżanowice    39.22\n",
    "    Chałupki        54.44"
   ],
   "metadata": {
    "collapsed": false
   },
   "id": "9843f64c20046b1f"
  }
 ],
 "metadata": {
  "kernelspec": {
   "display_name": "Python 3",
   "language": "python",
   "name": "python3"
  },
  "language_info": {
   "codemirror_mode": {
    "name": "ipython",
    "version": 2
   },
   "file_extension": ".py",
   "mimetype": "text/x-python",
   "name": "python",
   "nbconvert_exporter": "python",
   "pygments_lexer": "ipython2",
   "version": "2.7.6"
  }
 },
 "nbformat": 4,
 "nbformat_minor": 5
}
